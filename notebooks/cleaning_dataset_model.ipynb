{
  "nbformat": 4,
  "nbformat_minor": 0,
  "metadata": {
    "colab": {
      "provenance": [],
      "collapsed_sections": [
        "LQneGZUJFqVF",
        "vjsn9nD8Jyt5"
      ],
      "authorship_tag": "ABX9TyOOn6wQaNIeYt5OxmhKba9O",
      "include_colab_link": true
    },
    "kernelspec": {
      "name": "python3",
      "display_name": "Python 3"
    },
    "language_info": {
      "name": "python"
    }
  },
  "cells": [
    {
      "cell_type": "markdown",
      "metadata": {
        "id": "view-in-github",
        "colab_type": "text"
      },
      "source": [
        "<a href=\"https://colab.research.google.com/github/v0idengineer/analisis-sentimen-cs2-svm/blob/main/notebooks/cleaning_dataset_model.ipynb\" target=\"_parent\"><img src=\"https://colab.research.google.com/assets/colab-badge.svg\" alt=\"Open In Colab\"/></a>"
      ]
    },
    {
      "cell_type": "markdown",
      "source": [
        "# **CLEANING DATASET MODEL**"
      ],
      "metadata": {
        "id": "LQneGZUJFqVF"
      }
    },
    {
      "cell_type": "markdown",
      "source": [
        "Model ini bertujuan untuk membersihkan database dari tanda baca, angka, dan karakter khusus. Model ini juga dapat mendeteksi ulasan dalam bahasa Inggris dan Indonesia, jika ulasan tidak mengandung salah satu dari bahasa tersebut maka baris ulasan tersebut akan dihapus(penghapusan berlaku untuk nilai kosong pada review). Terakhir model ini akan memberi label \"en\" dan \"id\" pada tiap ulasan yang telah dibersihkan berdasarkan bahasa ulsaan tersebut."
      ],
      "metadata": {
        "id": "8KpOKfEIFvZs"
      }
    },
    {
      "cell_type": "markdown",
      "source": [
        "**LIBRARY**"
      ],
      "metadata": {
        "id": "od3frKqa0a4x"
      }
    },
    {
      "cell_type": "code",
      "source": [
        "!pip install langdetect\n",
        "!pip install Sastrawi"
      ],
      "metadata": {
        "colab": {
          "base_uri": "https://localhost:8080/"
        },
        "collapsed": true,
        "id": "RmLRjyeo0cxg",
        "outputId": "f5950d05-9776-406d-fae4-27c593cfefa2"
      },
      "execution_count": null,
      "outputs": [
        {
          "output_type": "stream",
          "name": "stdout",
          "text": [
            "Requirement already satisfied: langdetect in /usr/local/lib/python3.11/dist-packages (1.0.9)\n",
            "Requirement already satisfied: six in /usr/local/lib/python3.11/dist-packages (from langdetect) (1.17.0)\n",
            "Requirement already satisfied: Sastrawi in /usr/local/lib/python3.11/dist-packages (1.0.1)\n"
          ]
        }
      ]
    },
    {
      "cell_type": "code",
      "source": [
        "import pandas as pd\n",
        "import string\n",
        "from langdetect import detect"
      ],
      "metadata": {
        "id": "Gx6ro5_S1fxn"
      },
      "execution_count": null,
      "outputs": []
    },
    {
      "cell_type": "markdown",
      "source": [
        "MEMBACA DATASET"
      ],
      "metadata": {
        "id": "OQMweEni0yzq"
      }
    },
    {
      "cell_type": "code",
      "execution_count": null,
      "metadata": {
        "colab": {
          "base_uri": "https://localhost:8080/"
        },
        "id": "F2GHTjzOzzZ1",
        "outputId": "bc89332b-361f-4af1-faaa-7f8553ba6537"
      },
      "outputs": [
        {
          "output_type": "stream",
          "name": "stdout",
          "text": [
            "Kolom yang tersedia: Index(['steamid', 'review', 'timestamp_created', 'timestamp_updated',\n",
            "       'date_created', 'date_updated'],\n",
            "      dtype='object')\n",
            "Contoh data:\n",
            "              steamid                                             review  \\\n",
            "0  76561198315343800                                        game goblog   \n",
            "1  76561198354022500  gim ini membuat termotivasi saya menjadi mente...   \n",
            "2  76561198269106200  It's good game. but RIP Aim, everytime i see m...   \n",
            "3  76561198387291400                                                cs2   \n",
            "4  76561198840938800  ok valve, i support ur new game. now tf2 updat...   \n",
            "\n",
            "   timestamp_created  timestamp_updated date_created date_updated  \n",
            "0         1695887908         1702898857    9/28/2023   12/18/2023  \n",
            "1         1695894605         1699954964    9/28/2023   11/14/2023  \n",
            "2         1695906552         1695906552    9/28/2023    9/28/2023  \n",
            "3         1695942351         1695942351    9/28/2023    9/28/2023  \n",
            "4         1695943814         1695943814    9/28/2023    9/28/2023  \n"
          ]
        }
      ],
      "source": [
        "# Load dataset\n",
        "file_path = 'dataset_v2.csv'  # Ganti dengan path dataset Anda\n",
        "data = pd.read_csv(file_path)\n",
        "\n",
        "# Pastikan dataset memiliki kolom review\n",
        "print(\"Kolom yang tersedia:\", data.columns)\n",
        "print(\"Contoh data:\\n\", data.head())"
      ]
    },
    {
      "cell_type": "markdown",
      "source": [
        "**FUNGSI UNTUK MEMBERSIHKAN TEKS DAN DETEKSI BAHASA**"
      ],
      "metadata": {
        "id": "hpNXYDoG2A5y"
      }
    },
    {
      "cell_type": "code",
      "source": [
        "# Fungsi untuk menghapus tanda baca, angka, dan karakter khusus\n",
        "def removepunctuation_and_lowercase(text):\n",
        "    p = set(string.punctuation)\n",
        "    text = text.lower()  # Mengubah teks menjadi huruf kecil\n",
        "    words = text.split()  # Memisahkan teks menjadi kata-kata\n",
        "    cleaned_text = []\n",
        "\n",
        "    for i in words:\n",
        "        # Menghapus tanda baca, angka, dan karakter khusus dari setiap kata\n",
        "        cleaned_word = ''.join([x for x in i if x not in p])\n",
        "        cleaned_text.append(cleaned_word)\n",
        "\n",
        "    return \" \".join(cleaned_text)  # Menggabungkan kembali kata-kata yang sudah dibersihkan\n",
        "\n",
        "# Fungsi untuk mendeteksi bahasa (hanya menerima bahasa Inggris dan Indonesia)\n",
        "def is_english_or_indonesian(text):\n",
        "    try:\n",
        "        lang = detect(text)  # Deteksi bahasa teks\n",
        "        return lang in ['en', 'id']  # Memeriksa apakah bahasa Inggris ('en') atau Indonesia ('id')\n",
        "    except:\n",
        "        return False"
      ],
      "metadata": {
        "id": "m9sXJP7Y2Hy1"
      },
      "execution_count": null,
      "outputs": []
    },
    {
      "cell_type": "code",
      "source": [
        "# Membaca dataset\n",
        "file_path = 'dataset_v2.csv'  # Ganti sesuai path file\n",
        "data = pd.read_csv(file_path, encoding=\"ISO-8859-1\")\n",
        "\n",
        "# Menyaring dan membersihkan teks dari kolom tertentu\n",
        "uncleaned = [i for i in data['review']]  # Ganti 'review' dengan nama kolom yang sesuai\n",
        "cleaned = []\n",
        "languages = []  # Menyimpan informasi bahasa\n",
        "\n",
        "for i in uncleaned:\n",
        "    try:\n",
        "        # Memeriksa apakah bahasa teks adalah bahasa Inggris atau Indonesia\n",
        "        if len(i) == 0 or not is_english_or_indonesian(i):\n",
        "            raise ValueError(\"Teks bukan bahasa Inggris atau Indonesia\")\n",
        "\n",
        "        # Menghapus tanda baca, mengubah ke lowercase\n",
        "        cleaned_text = removepunctuation_and_lowercase(i)\n",
        "\n",
        "        # Menambahkan bahasa yang terdeteksi\n",
        "        lang = detect(cleaned_text)  # Deteksi bahasa\n",
        "        languages.append(lang)  # Menyimpan bahasa\n",
        "\n",
        "        cleaned.append(cleaned_text)\n",
        "    except:\n",
        "        cleaned.append(\"NAN\")  # Menandai dengan \"NAN\" jika ada masalah dengan teks\n",
        "        languages.append(\"NAN\")  # Menambahkan \"NAN\" jika terjadi error deteksi bahasa\n",
        "\n",
        "# Menghapus baris yang memiliki \"NAN\" pada kolom 'cleaned_reviews' (data yang tidak valid)\n",
        "data['cleaned_reviews'] = cleaned\n",
        "data['language'] = languages\n",
        "data_cleaned = data[data['language'] != \"NAN\"]  # Menghapus data yang tidak sesuai bahasa\n"
      ],
      "metadata": {
        "id": "qkrhxiUlEKTz"
      },
      "execution_count": null,
      "outputs": []
    },
    {
      "cell_type": "markdown",
      "source": [
        "**CLEANING LANJUTAN**"
      ],
      "metadata": {
        "id": "hSaiFFVbLqne"
      }
    },
    {
      "cell_type": "code",
      "source": [
        "# Fungsi untuk menghapus karakter non-ASCII dan angka\n",
        "def remove_non_ascii_and_numbers(text):\n",
        "    # Menghapus angka dan karakter non-ASCII\n",
        "    return ''.join([i for i in text if ord(i) < 128 and not i.isdigit()])\n",
        "\n",
        "# Terapkan fungsi untuk membersihkan karakter non-ASCII dan angka di kolom 'cleaned_reviews'\n",
        "data_cleaned['cleaned_reviews'] = data_cleaned['cleaned_reviews'].apply(remove_non_ascii_and_numbers)\n",
        "\n",
        "# Menampilkan beberapa baris pertama setelah pembersihan\n",
        "data_cleaned[['review', 'cleaned_reviews']].head()"
      ],
      "metadata": {
        "colab": {
          "base_uri": "https://localhost:8080/",
          "height": 316
        },
        "id": "NQmnQYc5Ltie",
        "outputId": "369cfcd0-0dd0-406e-8efc-3d00b55db6f6"
      },
      "execution_count": null,
      "outputs": [
        {
          "output_type": "stream",
          "name": "stderr",
          "text": [
            "<ipython-input-6-83c7836e15bf>:7: SettingWithCopyWarning: \n",
            "A value is trying to be set on a copy of a slice from a DataFrame.\n",
            "Try using .loc[row_indexer,col_indexer] = value instead\n",
            "\n",
            "See the caveats in the documentation: https://pandas.pydata.org/pandas-docs/stable/user_guide/indexing.html#returning-a-view-versus-a-copy\n",
            "  data_cleaned['cleaned_reviews'] = data_cleaned['cleaned_reviews'].apply(remove_non_ascii_and_numbers)\n"
          ]
        },
        {
          "output_type": "execute_result",
          "data": {
            "text/plain": [
              "                                               review  \\\n",
              "1   gim ini membuat termotivasi saya menjadi mente...   \n",
              "2   It's good game. but RIP Aim, everytime i see m...   \n",
              "4   ok valve, i support ur new game. now tf2 updat...   \n",
              "5                too much stutering, jitter, and lagg   \n",
              "11                                   Too many cheater   \n",
              "\n",
              "                                      cleaned_reviews  \n",
              "1   gim ini membuat termotivasi saya menjadi mente...  \n",
              "2   its good game but rip aim everytime i see my e...  \n",
              "4   ok valve i support ur new game now tf update when  \n",
              "5                  too much stutering jitter and lagg  \n",
              "11                                   too many cheater  "
            ],
            "text/html": [
              "\n",
              "  <div id=\"df-4cfed1de-c044-4917-af2d-aa45f29defb3\" class=\"colab-df-container\">\n",
              "    <div>\n",
              "<style scoped>\n",
              "    .dataframe tbody tr th:only-of-type {\n",
              "        vertical-align: middle;\n",
              "    }\n",
              "\n",
              "    .dataframe tbody tr th {\n",
              "        vertical-align: top;\n",
              "    }\n",
              "\n",
              "    .dataframe thead th {\n",
              "        text-align: right;\n",
              "    }\n",
              "</style>\n",
              "<table border=\"1\" class=\"dataframe\">\n",
              "  <thead>\n",
              "    <tr style=\"text-align: right;\">\n",
              "      <th></th>\n",
              "      <th>review</th>\n",
              "      <th>cleaned_reviews</th>\n",
              "    </tr>\n",
              "  </thead>\n",
              "  <tbody>\n",
              "    <tr>\n",
              "      <th>1</th>\n",
              "      <td>gim ini membuat termotivasi saya menjadi mente...</td>\n",
              "      <td>gim ini membuat termotivasi saya menjadi mente...</td>\n",
              "    </tr>\n",
              "    <tr>\n",
              "      <th>2</th>\n",
              "      <td>It's good game. but RIP Aim, everytime i see m...</td>\n",
              "      <td>its good game but rip aim everytime i see my e...</td>\n",
              "    </tr>\n",
              "    <tr>\n",
              "      <th>4</th>\n",
              "      <td>ok valve, i support ur new game. now tf2 updat...</td>\n",
              "      <td>ok valve i support ur new game now tf update when</td>\n",
              "    </tr>\n",
              "    <tr>\n",
              "      <th>5</th>\n",
              "      <td>too much stutering, jitter, and lagg</td>\n",
              "      <td>too much stutering jitter and lagg</td>\n",
              "    </tr>\n",
              "    <tr>\n",
              "      <th>11</th>\n",
              "      <td>Too many cheater</td>\n",
              "      <td>too many cheater</td>\n",
              "    </tr>\n",
              "  </tbody>\n",
              "</table>\n",
              "</div>\n",
              "    <div class=\"colab-df-buttons\">\n",
              "\n",
              "  <div class=\"colab-df-container\">\n",
              "    <button class=\"colab-df-convert\" onclick=\"convertToInteractive('df-4cfed1de-c044-4917-af2d-aa45f29defb3')\"\n",
              "            title=\"Convert this dataframe to an interactive table.\"\n",
              "            style=\"display:none;\">\n",
              "\n",
              "  <svg xmlns=\"http://www.w3.org/2000/svg\" height=\"24px\" viewBox=\"0 -960 960 960\">\n",
              "    <path d=\"M120-120v-720h720v720H120Zm60-500h600v-160H180v160Zm220 220h160v-160H400v160Zm0 220h160v-160H400v160ZM180-400h160v-160H180v160Zm440 0h160v-160H620v160ZM180-180h160v-160H180v160Zm440 0h160v-160H620v160Z\"/>\n",
              "  </svg>\n",
              "    </button>\n",
              "\n",
              "  <style>\n",
              "    .colab-df-container {\n",
              "      display:flex;\n",
              "      gap: 12px;\n",
              "    }\n",
              "\n",
              "    .colab-df-convert {\n",
              "      background-color: #E8F0FE;\n",
              "      border: none;\n",
              "      border-radius: 50%;\n",
              "      cursor: pointer;\n",
              "      display: none;\n",
              "      fill: #1967D2;\n",
              "      height: 32px;\n",
              "      padding: 0 0 0 0;\n",
              "      width: 32px;\n",
              "    }\n",
              "\n",
              "    .colab-df-convert:hover {\n",
              "      background-color: #E2EBFA;\n",
              "      box-shadow: 0px 1px 2px rgba(60, 64, 67, 0.3), 0px 1px 3px 1px rgba(60, 64, 67, 0.15);\n",
              "      fill: #174EA6;\n",
              "    }\n",
              "\n",
              "    .colab-df-buttons div {\n",
              "      margin-bottom: 4px;\n",
              "    }\n",
              "\n",
              "    [theme=dark] .colab-df-convert {\n",
              "      background-color: #3B4455;\n",
              "      fill: #D2E3FC;\n",
              "    }\n",
              "\n",
              "    [theme=dark] .colab-df-convert:hover {\n",
              "      background-color: #434B5C;\n",
              "      box-shadow: 0px 1px 3px 1px rgba(0, 0, 0, 0.15);\n",
              "      filter: drop-shadow(0px 1px 2px rgba(0, 0, 0, 0.3));\n",
              "      fill: #FFFFFF;\n",
              "    }\n",
              "  </style>\n",
              "\n",
              "    <script>\n",
              "      const buttonEl =\n",
              "        document.querySelector('#df-4cfed1de-c044-4917-af2d-aa45f29defb3 button.colab-df-convert');\n",
              "      buttonEl.style.display =\n",
              "        google.colab.kernel.accessAllowed ? 'block' : 'none';\n",
              "\n",
              "      async function convertToInteractive(key) {\n",
              "        const element = document.querySelector('#df-4cfed1de-c044-4917-af2d-aa45f29defb3');\n",
              "        const dataTable =\n",
              "          await google.colab.kernel.invokeFunction('convertToInteractive',\n",
              "                                                    [key], {});\n",
              "        if (!dataTable) return;\n",
              "\n",
              "        const docLinkHtml = 'Like what you see? Visit the ' +\n",
              "          '<a target=\"_blank\" href=https://colab.research.google.com/notebooks/data_table.ipynb>data table notebook</a>'\n",
              "          + ' to learn more about interactive tables.';\n",
              "        element.innerHTML = '';\n",
              "        dataTable['output_type'] = 'display_data';\n",
              "        await google.colab.output.renderOutput(dataTable, element);\n",
              "        const docLink = document.createElement('div');\n",
              "        docLink.innerHTML = docLinkHtml;\n",
              "        element.appendChild(docLink);\n",
              "      }\n",
              "    </script>\n",
              "  </div>\n",
              "\n",
              "\n",
              "<div id=\"df-0e0cbbb4-5d2f-499d-8fed-f1c65cea9cf2\">\n",
              "  <button class=\"colab-df-quickchart\" onclick=\"quickchart('df-0e0cbbb4-5d2f-499d-8fed-f1c65cea9cf2')\"\n",
              "            title=\"Suggest charts\"\n",
              "            style=\"display:none;\">\n",
              "\n",
              "<svg xmlns=\"http://www.w3.org/2000/svg\" height=\"24px\"viewBox=\"0 0 24 24\"\n",
              "     width=\"24px\">\n",
              "    <g>\n",
              "        <path d=\"M19 3H5c-1.1 0-2 .9-2 2v14c0 1.1.9 2 2 2h14c1.1 0 2-.9 2-2V5c0-1.1-.9-2-2-2zM9 17H7v-7h2v7zm4 0h-2V7h2v10zm4 0h-2v-4h2v4z\"/>\n",
              "    </g>\n",
              "</svg>\n",
              "  </button>\n",
              "\n",
              "<style>\n",
              "  .colab-df-quickchart {\n",
              "      --bg-color: #E8F0FE;\n",
              "      --fill-color: #1967D2;\n",
              "      --hover-bg-color: #E2EBFA;\n",
              "      --hover-fill-color: #174EA6;\n",
              "      --disabled-fill-color: #AAA;\n",
              "      --disabled-bg-color: #DDD;\n",
              "  }\n",
              "\n",
              "  [theme=dark] .colab-df-quickchart {\n",
              "      --bg-color: #3B4455;\n",
              "      --fill-color: #D2E3FC;\n",
              "      --hover-bg-color: #434B5C;\n",
              "      --hover-fill-color: #FFFFFF;\n",
              "      --disabled-bg-color: #3B4455;\n",
              "      --disabled-fill-color: #666;\n",
              "  }\n",
              "\n",
              "  .colab-df-quickchart {\n",
              "    background-color: var(--bg-color);\n",
              "    border: none;\n",
              "    border-radius: 50%;\n",
              "    cursor: pointer;\n",
              "    display: none;\n",
              "    fill: var(--fill-color);\n",
              "    height: 32px;\n",
              "    padding: 0;\n",
              "    width: 32px;\n",
              "  }\n",
              "\n",
              "  .colab-df-quickchart:hover {\n",
              "    background-color: var(--hover-bg-color);\n",
              "    box-shadow: 0 1px 2px rgba(60, 64, 67, 0.3), 0 1px 3px 1px rgba(60, 64, 67, 0.15);\n",
              "    fill: var(--button-hover-fill-color);\n",
              "  }\n",
              "\n",
              "  .colab-df-quickchart-complete:disabled,\n",
              "  .colab-df-quickchart-complete:disabled:hover {\n",
              "    background-color: var(--disabled-bg-color);\n",
              "    fill: var(--disabled-fill-color);\n",
              "    box-shadow: none;\n",
              "  }\n",
              "\n",
              "  .colab-df-spinner {\n",
              "    border: 2px solid var(--fill-color);\n",
              "    border-color: transparent;\n",
              "    border-bottom-color: var(--fill-color);\n",
              "    animation:\n",
              "      spin 1s steps(1) infinite;\n",
              "  }\n",
              "\n",
              "  @keyframes spin {\n",
              "    0% {\n",
              "      border-color: transparent;\n",
              "      border-bottom-color: var(--fill-color);\n",
              "      border-left-color: var(--fill-color);\n",
              "    }\n",
              "    20% {\n",
              "      border-color: transparent;\n",
              "      border-left-color: var(--fill-color);\n",
              "      border-top-color: var(--fill-color);\n",
              "    }\n",
              "    30% {\n",
              "      border-color: transparent;\n",
              "      border-left-color: var(--fill-color);\n",
              "      border-top-color: var(--fill-color);\n",
              "      border-right-color: var(--fill-color);\n",
              "    }\n",
              "    40% {\n",
              "      border-color: transparent;\n",
              "      border-right-color: var(--fill-color);\n",
              "      border-top-color: var(--fill-color);\n",
              "    }\n",
              "    60% {\n",
              "      border-color: transparent;\n",
              "      border-right-color: var(--fill-color);\n",
              "    }\n",
              "    80% {\n",
              "      border-color: transparent;\n",
              "      border-right-color: var(--fill-color);\n",
              "      border-bottom-color: var(--fill-color);\n",
              "    }\n",
              "    90% {\n",
              "      border-color: transparent;\n",
              "      border-bottom-color: var(--fill-color);\n",
              "    }\n",
              "  }\n",
              "</style>\n",
              "\n",
              "  <script>\n",
              "    async function quickchart(key) {\n",
              "      const quickchartButtonEl =\n",
              "        document.querySelector('#' + key + ' button');\n",
              "      quickchartButtonEl.disabled = true;  // To prevent multiple clicks.\n",
              "      quickchartButtonEl.classList.add('colab-df-spinner');\n",
              "      try {\n",
              "        const charts = await google.colab.kernel.invokeFunction(\n",
              "            'suggestCharts', [key], {});\n",
              "      } catch (error) {\n",
              "        console.error('Error during call to suggestCharts:', error);\n",
              "      }\n",
              "      quickchartButtonEl.classList.remove('colab-df-spinner');\n",
              "      quickchartButtonEl.classList.add('colab-df-quickchart-complete');\n",
              "    }\n",
              "    (() => {\n",
              "      let quickchartButtonEl =\n",
              "        document.querySelector('#df-0e0cbbb4-5d2f-499d-8fed-f1c65cea9cf2 button');\n",
              "      quickchartButtonEl.style.display =\n",
              "        google.colab.kernel.accessAllowed ? 'block' : 'none';\n",
              "    })();\n",
              "  </script>\n",
              "</div>\n",
              "\n",
              "    </div>\n",
              "  </div>\n"
            ],
            "application/vnd.google.colaboratory.intrinsic+json": {
              "type": "dataframe",
              "summary": "{\n  \"name\": \"data_cleaned[['review', 'cleaned_reviews']]\",\n  \"rows\": 5,\n  \"fields\": [\n    {\n      \"column\": \"review\",\n      \"properties\": {\n        \"dtype\": \"string\",\n        \"num_unique_values\": 5,\n        \"samples\": [\n          \"It's good game. but RIP Aim, everytime i see my enemy either i'm shooting air or a wall?\",\n          \"Too many cheater\",\n          \"ok valve, i support ur new game. now tf2 update when\"\n        ],\n        \"semantic_type\": \"\",\n        \"description\": \"\"\n      }\n    },\n    {\n      \"column\": \"cleaned_reviews\",\n      \"properties\": {\n        \"dtype\": \"string\",\n        \"num_unique_values\": 5,\n        \"samples\": [\n          \"its good game but rip aim everytime i see my enemy either im shooting air or a wall\",\n          \"too many cheater\",\n          \"ok valve i support ur new game now tf update when\"\n        ],\n        \"semantic_type\": \"\",\n        \"description\": \"\"\n      }\n    }\n  ]\n}"
            }
          },
          "metadata": {},
          "execution_count": 6
        }
      ]
    },
    {
      "cell_type": "markdown",
      "source": [
        "**MENYIMPAN DATASET**"
      ],
      "metadata": {
        "id": "Mq-EC4wnEwiz"
      }
    },
    {
      "cell_type": "code",
      "source": [
        "# Menyimpan data yang sudah dibersihkan ke file baru\n",
        "data_cleaned.to_csv('dataset_v2_cleaned_no_invalid_language.csv', index=False)\n",
        "\n",
        "print(\"Proses pembersihan selesai! Data yang tidak valid sudah dihapus.\")"
      ],
      "metadata": {
        "colab": {
          "base_uri": "https://localhost:8080/"
        },
        "id": "DT3VS33bEyrN",
        "outputId": "f94ad85c-2917-403f-f0c0-222b1fd7cac6"
      },
      "execution_count": null,
      "outputs": [
        {
          "output_type": "stream",
          "name": "stdout",
          "text": [
            "Proses pembersihan selesai! Data yang tidak valid sudah dihapus.\n"
          ]
        }
      ]
    },
    {
      "cell_type": "markdown",
      "source": [
        "#**STOPWORDS DAN TOKENISASI**"
      ],
      "metadata": {
        "id": "vjsn9nD8Jyt5"
      }
    },
    {
      "cell_type": "markdown",
      "source": [
        "Setelah data dibersihkan langkah selanjutnya adalah tokenisasi, memecah kalimat menjadi unit kata yang lebih kecil, bagian ini juga akan mengecek jika ada karakter yang tidak sesuai maka akan dihapus."
      ],
      "metadata": {
        "id": "ucX0q1PQJ3cR"
      }
    },
    {
      "cell_type": "code",
      "source": [
        "import nltk\n",
        "from nltk.corpus import stopwords\n",
        "from Sastrawi.StopWordRemover.StopWordRemoverFactory import StopWordRemoverFactory\n",
        "\n",
        "# Download stopwords untuk bahasa Inggris dan Indonesia\n",
        "nltk.download('stopwords')\n",
        "nltk.download('punkt')\n",
        "\n",
        "# Membuat stopword list untuk bahasa Indonesia dan Inggris\n",
        "factory = StopWordRemoverFactory()\n",
        "indonesia_stopwords = set(factory.get_stop_words())\n",
        "english_stopwords = set(stopwords.words('english'))\n",
        "\n",
        "# Gabungkan stopword dari dua bahasa\n",
        "combined_stopwords = indonesia_stopwords.union(english_stopwords)\n",
        "\n",
        "# Fungsi untuk menghapus stopwords\n",
        "def remove_stopwords(tokens):\n",
        "    return [word for word in tokens if word not in combined_stopwords]\n",
        "\n",
        "# Fungsi untuk memperbaiki dan menghapus karakter-karakter yang tidak diinginkan\n",
        "def clean_weird_chars(text):\n",
        "    # Menghapus karakter yang di-encode dengan tidak benar (seperti â\\x80\\x93)\n",
        "    cleaned_text = text.encode('latin1').decode('utf-8', 'ignore')\n",
        "    # Menghapus angka dan karakter non-alfabet\n",
        "    return ''.join([char for char in cleaned_text if char.isalpha() or char.isspace()])\n",
        "\n",
        "# Fungsi untuk tokenisasi\n",
        "def tokenize(text):\n",
        "    return nltk.word_tokenize(text)\n",
        "\n",
        "# Menghapus karakter-karakter yang tidak diinginkan dan angka dari kolom 'cleaned_reviews'\n",
        "data_cleaned['cleaned_reviews'] = data_cleaned['cleaned_reviews'].apply(clean_weird_chars)\n",
        "\n",
        "# Melakukan tokenisasi terlebih dahulu\n",
        "data_cleaned['tokenized_reviews'] = data_cleaned['cleaned_reviews'].apply(tokenize)\n",
        "\n",
        "# Menghapus stopwords dari token yang sudah di-tokenize\n",
        "data_cleaned['stopwords_tokenized_reviews'] = data_cleaned['tokenized_reviews'].apply(remove_stopwords)\n",
        "\n",
        "# Menampilkan beberapa baris pertama setelah pembersihan dan tokenisasi\n",
        "data_cleaned[['review', 'cleaned_reviews', 'tokenized_reviews', 'stopwords_tokenized_reviews']].head()\n",
        "\n",
        "# Menyimpan hasil ke file CSV baru\n",
        "data_cleaned.to_csv('dataset_v2_cleaned_stopword_tokenized.csv', index=False)"
      ],
      "metadata": {
        "colab": {
          "base_uri": "https://localhost:8080/"
        },
        "id": "HFkdBkZtKguW",
        "outputId": "e7093db5-b99f-4792-a119-0425e1e80ab6"
      },
      "execution_count": null,
      "outputs": [
        {
          "output_type": "stream",
          "name": "stderr",
          "text": [
            "[nltk_data] Downloading package stopwords to /root/nltk_data...\n",
            "[nltk_data]   Package stopwords is already up-to-date!\n",
            "[nltk_data] Downloading package punkt to /root/nltk_data...\n",
            "[nltk_data]   Package punkt is already up-to-date!\n",
            "<ipython-input-8-c632e297821e>:33: SettingWithCopyWarning: \n",
            "A value is trying to be set on a copy of a slice from a DataFrame.\n",
            "Try using .loc[row_indexer,col_indexer] = value instead\n",
            "\n",
            "See the caveats in the documentation: https://pandas.pydata.org/pandas-docs/stable/user_guide/indexing.html#returning-a-view-versus-a-copy\n",
            "  data_cleaned['cleaned_reviews'] = data_cleaned['cleaned_reviews'].apply(clean_weird_chars)\n",
            "<ipython-input-8-c632e297821e>:36: SettingWithCopyWarning: \n",
            "A value is trying to be set on a copy of a slice from a DataFrame.\n",
            "Try using .loc[row_indexer,col_indexer] = value instead\n",
            "\n",
            "See the caveats in the documentation: https://pandas.pydata.org/pandas-docs/stable/user_guide/indexing.html#returning-a-view-versus-a-copy\n",
            "  data_cleaned['tokenized_reviews'] = data_cleaned['cleaned_reviews'].apply(tokenize)\n",
            "<ipython-input-8-c632e297821e>:39: SettingWithCopyWarning: \n",
            "A value is trying to be set on a copy of a slice from a DataFrame.\n",
            "Try using .loc[row_indexer,col_indexer] = value instead\n",
            "\n",
            "See the caveats in the documentation: https://pandas.pydata.org/pandas-docs/stable/user_guide/indexing.html#returning-a-view-versus-a-copy\n",
            "  data_cleaned['stopwords_tokenized_reviews'] = data_cleaned['tokenized_reviews'].apply(remove_stopwords)\n"
          ]
        }
      ]
    },
    {
      "cell_type": "markdown",
      "source": [
        "MENYIMPAN DATASET"
      ],
      "metadata": {
        "id": "vH7p1XspPuiT"
      }
    },
    {
      "cell_type": "code",
      "source": [
        "import pandas as pd\n",
        "\n",
        "# Membaca file dataset_v1_cleaned_stopword_tokenized.csv\n",
        "data_cleaned = pd.read_csv('dataset_v2_cleaned_stopword_tokenized.csv')\n",
        "\n",
        "# Menggabungkan token kembali menjadi teks pada kolom 'stopwords_tokenized_reviews'\n",
        "data_cleaned['cleaned_reviewsv2'] = data_cleaned['stopwords_tokenized_reviews'].apply(lambda x: ' '.join(eval(x)))\n",
        "\n",
        "# Menyimpan hasil ke file baru\n",
        "data_cleaned.to_csv('dataset_v1_cleaned_stopword_tokenized_v2.csv', index=False)\n",
        "\n",
        "# Menampilkan beberapa baris pertama untuk memastikan kolom baru telah dibuat\n",
        "data_cleaned[['stopwords_tokenized_reviews', 'cleaned_reviewsv2']].head()"
      ],
      "metadata": {
        "colab": {
          "base_uri": "https://localhost:8080/",
          "height": 206
        },
        "id": "Mfy2BDREPy0r",
        "outputId": "aaec7ad1-6d20-41bf-85aa-4cbbf052a264"
      },
      "execution_count": null,
      "outputs": [
        {
          "output_type": "execute_result",
          "data": {
            "text/plain": [
              "                         stopwords_tokenized_reviews  \\\n",
              "0  ['gim', 'membuat', 'termotivasi', 'menjadi', '...   \n",
              "1  ['good', 'game', 'rip', 'aim', 'everytime', 's...   \n",
              "2  ['valve', 'support', 'ur', 'new', 'game', 'tf'...   \n",
              "3            ['much', 'stutering', 'jitter', 'lagg']   \n",
              "4                                ['many', 'cheater']   \n",
              "\n",
              "                                   cleaned_reviewsv2  \n",
              "0  gim membuat termotivasi menjadi menteri komuni...  \n",
              "1  good game rip aim everytime see enemy either i...  \n",
              "2                valve support ur new game tf update  \n",
              "3                         much stutering jitter lagg  \n",
              "4                                       many cheater  "
            ],
            "text/html": [
              "\n",
              "  <div id=\"df-086b7147-510b-4b99-aff2-651e689a24b0\" class=\"colab-df-container\">\n",
              "    <div>\n",
              "<style scoped>\n",
              "    .dataframe tbody tr th:only-of-type {\n",
              "        vertical-align: middle;\n",
              "    }\n",
              "\n",
              "    .dataframe tbody tr th {\n",
              "        vertical-align: top;\n",
              "    }\n",
              "\n",
              "    .dataframe thead th {\n",
              "        text-align: right;\n",
              "    }\n",
              "</style>\n",
              "<table border=\"1\" class=\"dataframe\">\n",
              "  <thead>\n",
              "    <tr style=\"text-align: right;\">\n",
              "      <th></th>\n",
              "      <th>stopwords_tokenized_reviews</th>\n",
              "      <th>cleaned_reviewsv2</th>\n",
              "    </tr>\n",
              "  </thead>\n",
              "  <tbody>\n",
              "    <tr>\n",
              "      <th>0</th>\n",
              "      <td>['gim', 'membuat', 'termotivasi', 'menjadi', '...</td>\n",
              "      <td>gim membuat termotivasi menjadi menteri komuni...</td>\n",
              "    </tr>\n",
              "    <tr>\n",
              "      <th>1</th>\n",
              "      <td>['good', 'game', 'rip', 'aim', 'everytime', 's...</td>\n",
              "      <td>good game rip aim everytime see enemy either i...</td>\n",
              "    </tr>\n",
              "    <tr>\n",
              "      <th>2</th>\n",
              "      <td>['valve', 'support', 'ur', 'new', 'game', 'tf'...</td>\n",
              "      <td>valve support ur new game tf update</td>\n",
              "    </tr>\n",
              "    <tr>\n",
              "      <th>3</th>\n",
              "      <td>['much', 'stutering', 'jitter', 'lagg']</td>\n",
              "      <td>much stutering jitter lagg</td>\n",
              "    </tr>\n",
              "    <tr>\n",
              "      <th>4</th>\n",
              "      <td>['many', 'cheater']</td>\n",
              "      <td>many cheater</td>\n",
              "    </tr>\n",
              "  </tbody>\n",
              "</table>\n",
              "</div>\n",
              "    <div class=\"colab-df-buttons\">\n",
              "\n",
              "  <div class=\"colab-df-container\">\n",
              "    <button class=\"colab-df-convert\" onclick=\"convertToInteractive('df-086b7147-510b-4b99-aff2-651e689a24b0')\"\n",
              "            title=\"Convert this dataframe to an interactive table.\"\n",
              "            style=\"display:none;\">\n",
              "\n",
              "  <svg xmlns=\"http://www.w3.org/2000/svg\" height=\"24px\" viewBox=\"0 -960 960 960\">\n",
              "    <path d=\"M120-120v-720h720v720H120Zm60-500h600v-160H180v160Zm220 220h160v-160H400v160Zm0 220h160v-160H400v160ZM180-400h160v-160H180v160Zm440 0h160v-160H620v160ZM180-180h160v-160H180v160Zm440 0h160v-160H620v160Z\"/>\n",
              "  </svg>\n",
              "    </button>\n",
              "\n",
              "  <style>\n",
              "    .colab-df-container {\n",
              "      display:flex;\n",
              "      gap: 12px;\n",
              "    }\n",
              "\n",
              "    .colab-df-convert {\n",
              "      background-color: #E8F0FE;\n",
              "      border: none;\n",
              "      border-radius: 50%;\n",
              "      cursor: pointer;\n",
              "      display: none;\n",
              "      fill: #1967D2;\n",
              "      height: 32px;\n",
              "      padding: 0 0 0 0;\n",
              "      width: 32px;\n",
              "    }\n",
              "\n",
              "    .colab-df-convert:hover {\n",
              "      background-color: #E2EBFA;\n",
              "      box-shadow: 0px 1px 2px rgba(60, 64, 67, 0.3), 0px 1px 3px 1px rgba(60, 64, 67, 0.15);\n",
              "      fill: #174EA6;\n",
              "    }\n",
              "\n",
              "    .colab-df-buttons div {\n",
              "      margin-bottom: 4px;\n",
              "    }\n",
              "\n",
              "    [theme=dark] .colab-df-convert {\n",
              "      background-color: #3B4455;\n",
              "      fill: #D2E3FC;\n",
              "    }\n",
              "\n",
              "    [theme=dark] .colab-df-convert:hover {\n",
              "      background-color: #434B5C;\n",
              "      box-shadow: 0px 1px 3px 1px rgba(0, 0, 0, 0.15);\n",
              "      filter: drop-shadow(0px 1px 2px rgba(0, 0, 0, 0.3));\n",
              "      fill: #FFFFFF;\n",
              "    }\n",
              "  </style>\n",
              "\n",
              "    <script>\n",
              "      const buttonEl =\n",
              "        document.querySelector('#df-086b7147-510b-4b99-aff2-651e689a24b0 button.colab-df-convert');\n",
              "      buttonEl.style.display =\n",
              "        google.colab.kernel.accessAllowed ? 'block' : 'none';\n",
              "\n",
              "      async function convertToInteractive(key) {\n",
              "        const element = document.querySelector('#df-086b7147-510b-4b99-aff2-651e689a24b0');\n",
              "        const dataTable =\n",
              "          await google.colab.kernel.invokeFunction('convertToInteractive',\n",
              "                                                    [key], {});\n",
              "        if (!dataTable) return;\n",
              "\n",
              "        const docLinkHtml = 'Like what you see? Visit the ' +\n",
              "          '<a target=\"_blank\" href=https://colab.research.google.com/notebooks/data_table.ipynb>data table notebook</a>'\n",
              "          + ' to learn more about interactive tables.';\n",
              "        element.innerHTML = '';\n",
              "        dataTable['output_type'] = 'display_data';\n",
              "        await google.colab.output.renderOutput(dataTable, element);\n",
              "        const docLink = document.createElement('div');\n",
              "        docLink.innerHTML = docLinkHtml;\n",
              "        element.appendChild(docLink);\n",
              "      }\n",
              "    </script>\n",
              "  </div>\n",
              "\n",
              "\n",
              "<div id=\"df-f240ea5e-b368-4fed-bc86-8714c79a9778\">\n",
              "  <button class=\"colab-df-quickchart\" onclick=\"quickchart('df-f240ea5e-b368-4fed-bc86-8714c79a9778')\"\n",
              "            title=\"Suggest charts\"\n",
              "            style=\"display:none;\">\n",
              "\n",
              "<svg xmlns=\"http://www.w3.org/2000/svg\" height=\"24px\"viewBox=\"0 0 24 24\"\n",
              "     width=\"24px\">\n",
              "    <g>\n",
              "        <path d=\"M19 3H5c-1.1 0-2 .9-2 2v14c0 1.1.9 2 2 2h14c1.1 0 2-.9 2-2V5c0-1.1-.9-2-2-2zM9 17H7v-7h2v7zm4 0h-2V7h2v10zm4 0h-2v-4h2v4z\"/>\n",
              "    </g>\n",
              "</svg>\n",
              "  </button>\n",
              "\n",
              "<style>\n",
              "  .colab-df-quickchart {\n",
              "      --bg-color: #E8F0FE;\n",
              "      --fill-color: #1967D2;\n",
              "      --hover-bg-color: #E2EBFA;\n",
              "      --hover-fill-color: #174EA6;\n",
              "      --disabled-fill-color: #AAA;\n",
              "      --disabled-bg-color: #DDD;\n",
              "  }\n",
              "\n",
              "  [theme=dark] .colab-df-quickchart {\n",
              "      --bg-color: #3B4455;\n",
              "      --fill-color: #D2E3FC;\n",
              "      --hover-bg-color: #434B5C;\n",
              "      --hover-fill-color: #FFFFFF;\n",
              "      --disabled-bg-color: #3B4455;\n",
              "      --disabled-fill-color: #666;\n",
              "  }\n",
              "\n",
              "  .colab-df-quickchart {\n",
              "    background-color: var(--bg-color);\n",
              "    border: none;\n",
              "    border-radius: 50%;\n",
              "    cursor: pointer;\n",
              "    display: none;\n",
              "    fill: var(--fill-color);\n",
              "    height: 32px;\n",
              "    padding: 0;\n",
              "    width: 32px;\n",
              "  }\n",
              "\n",
              "  .colab-df-quickchart:hover {\n",
              "    background-color: var(--hover-bg-color);\n",
              "    box-shadow: 0 1px 2px rgba(60, 64, 67, 0.3), 0 1px 3px 1px rgba(60, 64, 67, 0.15);\n",
              "    fill: var(--button-hover-fill-color);\n",
              "  }\n",
              "\n",
              "  .colab-df-quickchart-complete:disabled,\n",
              "  .colab-df-quickchart-complete:disabled:hover {\n",
              "    background-color: var(--disabled-bg-color);\n",
              "    fill: var(--disabled-fill-color);\n",
              "    box-shadow: none;\n",
              "  }\n",
              "\n",
              "  .colab-df-spinner {\n",
              "    border: 2px solid var(--fill-color);\n",
              "    border-color: transparent;\n",
              "    border-bottom-color: var(--fill-color);\n",
              "    animation:\n",
              "      spin 1s steps(1) infinite;\n",
              "  }\n",
              "\n",
              "  @keyframes spin {\n",
              "    0% {\n",
              "      border-color: transparent;\n",
              "      border-bottom-color: var(--fill-color);\n",
              "      border-left-color: var(--fill-color);\n",
              "    }\n",
              "    20% {\n",
              "      border-color: transparent;\n",
              "      border-left-color: var(--fill-color);\n",
              "      border-top-color: var(--fill-color);\n",
              "    }\n",
              "    30% {\n",
              "      border-color: transparent;\n",
              "      border-left-color: var(--fill-color);\n",
              "      border-top-color: var(--fill-color);\n",
              "      border-right-color: var(--fill-color);\n",
              "    }\n",
              "    40% {\n",
              "      border-color: transparent;\n",
              "      border-right-color: var(--fill-color);\n",
              "      border-top-color: var(--fill-color);\n",
              "    }\n",
              "    60% {\n",
              "      border-color: transparent;\n",
              "      border-right-color: var(--fill-color);\n",
              "    }\n",
              "    80% {\n",
              "      border-color: transparent;\n",
              "      border-right-color: var(--fill-color);\n",
              "      border-bottom-color: var(--fill-color);\n",
              "    }\n",
              "    90% {\n",
              "      border-color: transparent;\n",
              "      border-bottom-color: var(--fill-color);\n",
              "    }\n",
              "  }\n",
              "</style>\n",
              "\n",
              "  <script>\n",
              "    async function quickchart(key) {\n",
              "      const quickchartButtonEl =\n",
              "        document.querySelector('#' + key + ' button');\n",
              "      quickchartButtonEl.disabled = true;  // To prevent multiple clicks.\n",
              "      quickchartButtonEl.classList.add('colab-df-spinner');\n",
              "      try {\n",
              "        const charts = await google.colab.kernel.invokeFunction(\n",
              "            'suggestCharts', [key], {});\n",
              "      } catch (error) {\n",
              "        console.error('Error during call to suggestCharts:', error);\n",
              "      }\n",
              "      quickchartButtonEl.classList.remove('colab-df-spinner');\n",
              "      quickchartButtonEl.classList.add('colab-df-quickchart-complete');\n",
              "    }\n",
              "    (() => {\n",
              "      let quickchartButtonEl =\n",
              "        document.querySelector('#df-f240ea5e-b368-4fed-bc86-8714c79a9778 button');\n",
              "      quickchartButtonEl.style.display =\n",
              "        google.colab.kernel.accessAllowed ? 'block' : 'none';\n",
              "    })();\n",
              "  </script>\n",
              "</div>\n",
              "\n",
              "    </div>\n",
              "  </div>\n"
            ],
            "application/vnd.google.colaboratory.intrinsic+json": {
              "type": "dataframe",
              "summary": "{\n  \"name\": \"data_cleaned[['stopwords_tokenized_reviews', 'cleaned_reviewsv2']]\",\n  \"rows\": 5,\n  \"fields\": [\n    {\n      \"column\": \"stopwords_tokenized_reviews\",\n      \"properties\": {\n        \"dtype\": \"string\",\n        \"num_unique_values\": 5,\n        \"samples\": [\n          \"['good', 'game', 'rip', 'aim', 'everytime', 'see', 'enemy', 'either', 'im', 'shooting', 'air', 'wall']\",\n          \"['many', 'cheater']\",\n          \"['valve', 'support', 'ur', 'new', 'game', 'tf', 'update']\"\n        ],\n        \"semantic_type\": \"\",\n        \"description\": \"\"\n      }\n    },\n    {\n      \"column\": \"cleaned_reviewsv2\",\n      \"properties\": {\n        \"dtype\": \"string\",\n        \"num_unique_values\": 5,\n        \"samples\": [\n          \"good game rip aim everytime see enemy either im shooting air wall\",\n          \"many cheater\",\n          \"valve support ur new game tf update\"\n        ],\n        \"semantic_type\": \"\",\n        \"description\": \"\"\n      }\n    }\n  ]\n}"
            }
          },
          "metadata": {},
          "execution_count": 9
        }
      ]
    },
    {
      "cell_type": "markdown",
      "source": [
        "# **LEMMATIZATION**"
      ],
      "metadata": {
        "id": "plsucJJPnH1p"
      }
    },
    {
      "cell_type": "markdown",
      "source": [
        "Sebuah proses untuk mengubah kata menjadi bentuk asalnya, contoh: \"berlari\" menjadi \"lari\""
      ],
      "metadata": {
        "id": "yHrk0Rk6onkL"
      }
    },
    {
      "cell_type": "code",
      "source": [
        "import spacy\n",
        "import pandas as pd\n",
        "import nltk\n",
        "from Sastrawi.Stemmer.StemmerFactory import StemmerFactory\n",
        "from nltk.tokenize import word_tokenize\n",
        "\n",
        "# Pastikan resource yang dibutuhkan sudah di-download\n",
        "nltk.download('punkt')\n",
        "nltk.download('wordnet')\n",
        "\n",
        "# Muat model spaCy untuk bahasa Inggris\n",
        "nlp_en = spacy.load('en_core_web_sm')\n",
        "\n",
        "# Buat stemmer untuk Bahasa Indonesia menggunakan Sastrawi\n",
        "factory = StemmerFactory()\n",
        "stemmer = factory.create_stemmer()\n",
        "\n",
        "# Fungsi lemmatisasi untuk bahasa Inggris menggunakan spaCy\n",
        "def lemmatize_english(text):\n",
        "    doc = nlp_en(text)\n",
        "    # Menggabungkan lemma setiap token menjadi satu string\n",
        "    return \" \".join([token.lemma_ for token in doc])\n",
        "\n",
        "# Fungsi \"lemmatization\" untuk bahasa Indonesia menggunakan Sastrawi\n",
        "def lemmatize_indonesian(text):\n",
        "    # Karena Sastrawi merupakan stemmer, kita tokenisasi dulu\n",
        "    tokens = word_tokenize(text)\n",
        "    # Terapkan stemmer untuk masing-masing token\n",
        "    return \" \".join([stemmer.stem(token) for token in tokens])\n",
        "\n",
        "# Fungsi untuk memilih metode lemmatisasi berdasarkan kolom language\n",
        "def lemmatize_based_on_language(row):\n",
        "    text = row['cleaned_reviewsv2']\n",
        "    lang = row['language']\n",
        "    # Jika teks kosong atau bukan string, kembalikan string kosong\n",
        "    if not isinstance(text, str) or text.strip() == \"\":\n",
        "        return \"\"\n",
        "    if lang == \"en\":\n",
        "        return lemmatize_english(text)\n",
        "    elif lang == \"id\":\n",
        "        return lemmatize_indonesian(text)\n",
        "    else:\n",
        "        # Jika bahasa tidak dikenali, default gunakan lemmatization bahasa Inggris\n",
        "        return lemmatize_english(text)\n",
        "\n",
        "# Membaca dataset dari file CSV\n",
        "data_cleaned = pd.read_csv('dataset_v_cleaned_stopword_tokenized_v2.csv')\n",
        "\n",
        "# Terapkan fungsi lemmatize_based_on_language ke setiap baris\n",
        "data_cleaned['lemmatized_reviews'] = data_cleaned.apply(lemmatize_based_on_language, axis=1)\n",
        "\n",
        "# Simpan hasil ke file baru\n",
        "data_cleaned.to_csv('dataset_v2_lemmatized_reviews_final.csv', index=False)\n",
        "\n",
        "print(\"✅ Proses lemmatasi berdasarkan language selesai! File disimpan sebagai 'dataset_v1_lemmatized_reviews_final.csv'\")\n"
      ],
      "metadata": {
        "colab": {
          "base_uri": "https://localhost:8080/"
        },
        "id": "vB4KY4nApPcf",
        "outputId": "9adcae2b-7547-44fc-82a8-bc214920e35a"
      },
      "execution_count": null,
      "outputs": [
        {
          "output_type": "stream",
          "name": "stderr",
          "text": [
            "[nltk_data] Downloading package punkt to /root/nltk_data...\n",
            "[nltk_data]   Package punkt is already up-to-date!\n",
            "[nltk_data] Downloading package wordnet to /root/nltk_data...\n",
            "[nltk_data]   Package wordnet is already up-to-date!\n"
          ]
        },
        {
          "output_type": "stream",
          "name": "stdout",
          "text": [
            "✅ Proses lemmatasi berdasarkan language selesai! File disimpan sebagai 'dataset_v1_lemmatized_reviews_final.csv'\n"
          ]
        }
      ]
    }
  ]
}